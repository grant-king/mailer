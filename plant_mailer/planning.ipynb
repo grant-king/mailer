{
 "cells": [
  {
   "cell_type": "code",
   "execution_count": 1,
   "metadata": {},
   "outputs": [],
   "source": [
    "import json\n",
    "import random\n",
    "import os\n",
    "import string\n",
    "import textwrap\n",
    "from PIL import Image, ImageDraw, ImageFont\n",
    "\n",
    "#load font from this directory\n",
    "font = ImageFont.truetype('Roboto-Medium.ttf', size=30)\n",
    "font2 = ImageFont.truetype('Roboto-Light.ttf', size=25)\n",
    "\n",
    "#load from JSON lines file. Each newline is a separate object\n",
    "data = []\n",
    "with open('plants.jl', 'r') as file:\n",
    "    for line in file:\n",
    "        data.append(json.loads(line))\n",
    "        "
   ]
  },
  {
   "cell_type": "code",
   "execution_count": 2,
   "metadata": {},
   "outputs": [
    {
     "data": {
      "text/plain": [
       "{'title': \"Zucchini, Summer Squash                'Costata Romanesco'\",\n",
       " 'classification': {'genus': 'Cucurbita', 'species': 'pepo'},\n",
       " 'image_source': 'https://s3.amazonaws.com/mygardenlife.com/plant-library/full/6256_49.jpg',\n",
       " 'features': 'One of the tastiest and most versatile of all the summer squash varieties and prized by gourmet cooks the world over. This Italian heirloom has tender flesh and mild, nutty flavor. The plants are also a great source of male squash blossoms for cooking. Fruits can be picked when just 7” (18cm) but will remain tender even if allowed to grow larger. Consistent harvesting will encourage more productive plants.',\n",
       " 'uses': 'Tastes great served raw with dips or fresh in salads. Delicious when steamed or stir-fried. Wonderful when wrapped in foil and roasted on the grill. Blossoms are excellent for cooking with either stuffing or just breaded and sautéed. Wash fruits, vegetables and herbs thoroughly before eating.',\n",
       " 'plant_feed': 'Use a fertilizer formulated for vegetables.',\n",
       " 'watering': 'Keep well-watered.',\n",
       " 'soil': 'Organic-rich, well-drained soil.',\n",
       " 'care_summary': 'Space 4\\' (1.2m) apart in organic-rich soil after danger of frost is past. Water freely in dry weather. Pick fruit when immature, about 6-8\" (15-20cm) long.'}"
      ]
     },
     "execution_count": 2,
     "metadata": {},
     "output_type": "execute_result"
    }
   ],
   "source": [
    "#get random selection\n",
    "choice = random.choice(data)\n",
    "title = choice.get('title')\n",
    "filename = title.translate(str.maketrans('', '', string.punctuation + ' ')).lower()\n",
    "\n",
    "choice"
   ]
  },
  {
   "cell_type": "code",
   "execution_count": 3,
   "metadata": {},
   "outputs": [],
   "source": [
    "#switch to image directory\n",
    "os.chdir('D:\\\\data\\\\pictures\\\\plants')\n",
    "#print(os.path.exists(f'{filename}.jpg'))\n",
    "plant_image = Image.open(f'{filename}.jpg')\n",
    "#width, height = plant_image.size\n"
   ]
  },
  {
   "cell_type": "markdown",
   "metadata": {},
   "source": [
    "## Composite image"
   ]
  },
  {
   "cell_type": "code",
   "execution_count": 46,
   "metadata": {},
   "outputs": [],
   "source": [
    "#color settings\n",
    "bg_color = (230, 219, 172)\n",
    "font_color = (255, 255, 255)\n",
    "font_color2 = (0, 0, 0)\n",
    "\n",
    "#text position and content\n",
    "title_x, title_y = (10, 10)\n",
    "title = choice.get('title')\n",
    "features = choice.get('features')\n",
    "uses = choice.get('uses')\n",
    "\n",
    "#make text boxes\n",
    "features_box_width = 360\n",
    "CONTENT_OFFSET = 50"
   ]
  },
  {
   "cell_type": "code",
   "execution_count": 23,
   "metadata": {},
   "outputs": [
    {
     "data": {
      "text/plain": [
       "['One of the tastiest and most',\n",
       " 'versatile of all the summer',\n",
       " 'squash varieties and prized by',\n",
       " 'gourmet cooks the world over.',\n",
       " 'This Italian heirloom has',\n",
       " 'tender flesh and mild, nutty',\n",
       " 'flavor. The plants are also a',\n",
       " 'great source of male squash',\n",
       " 'blossoms for cooking. Fruits',\n",
       " 'can be picked when just 7”',\n",
       " '(18cm) but will remain tender',\n",
       " 'even if allowed to grow',\n",
       " 'larger. Consistent harvesting',\n",
       " 'will encourage more productive',\n",
       " 'plants.']"
      ]
     },
     "execution_count": 23,
     "metadata": {},
     "output_type": "execute_result"
    }
   ],
   "source": [
    "features_text = textwrap.wrap(features, width=30)\n",
    "features_box_height = font.size * len(features_text)\n",
    "features_text"
   ]
  },
  {
   "cell_type": "code",
   "execution_count": 48,
   "metadata": {},
   "outputs": [],
   "source": [
    "class TextBox:\n",
    "    WIDTH = 360\n",
    "    \n",
    "    def __init__(self, content, font, bg_color=(230, 219, 172), text_color=(0,0,0)):\n",
    "        self.lines = self.break_content(content)\n",
    "        self.font = font\n",
    "        self.width, self.height = self.get_size()\n",
    "        self.bg_color = bg_color\n",
    "        self.text_color = text_color\n",
    "        self.canvas = self.gen_canvas()\n",
    "        self.draft = ImageDraw.Draw(self.canvas)\n",
    "        self.add_text()\n",
    "    \n",
    "    def break_content(self, text):\n",
    "        return textwrap.wrap(text, width=30)\n",
    "        \n",
    "    def get_size(self):\n",
    "        box_height = font.size * len(self.lines)\n",
    "        return self.WIDTH, box_height\n",
    "    \n",
    "    def gen_canvas(self):\n",
    "        return Image.new('RGB', (self.width, self.height), color=self.bg_color)\n",
    "        \n",
    "    def add_text(self):\n",
    "        cursor_y = 10\n",
    "        for line in self.lines:\n",
    "            font_width, font_height = self.font.getsize(line)\n",
    "            self.draft.text((10, cursor_y), line, font=self.font, fill=self.text_color)\n",
    "            cursor_y += font_height\n",
    "    \n",
    "    def save(self):\n",
    "        #save new image\n",
    "        self.canvas.save('aaa.png')\n",
    "\n",
    "txtbx = TextBox(features, font2)\n",
    "txtbx.save()\n",
    "\n"
   ]
  },
  {
   "cell_type": "code",
   "execution_count": 24,
   "metadata": {},
   "outputs": [],
   "source": [
    "#create, save new background\n",
    "background = Image.new('RGB', (features_box_width, features_box_height), color=bg_color)\n",
    "background.save('background.png')"
   ]
  },
  {
   "cell_type": "code",
   "execution_count": 25,
   "metadata": {},
   "outputs": [],
   "source": [
    "#open background, instantiate drawing\n",
    "image = Image.open('background.png')\n",
    "draft = ImageDraw.Draw(image)\n",
    "\n",
    "cursor_y = 10\n",
    "for line in features_text:\n",
    "    font_width, font_height = font2.getsize(line)\n",
    "    draft.text((10, cursor_y), line, font=font2, fill=font_color2)\n",
    "    cursor_y += font_height\n",
    "\n",
    "#save new image\n",
    "image.save('aaa.png')"
   ]
  },
  {
   "cell_type": "markdown",
   "metadata": {},
   "source": [
    "## render with HTML instead"
   ]
  },
  {
   "cell_type": "code",
   "execution_count": null,
   "metadata": {},
   "outputs": [],
   "source": [
    "print(title)"
   ]
  },
  {
   "cell_type": "code",
   "execution_count": null,
   "metadata": {},
   "outputs": [],
   "source": [
    "font.getsize(features_text[2])"
   ]
  },
  {
   "cell_type": "code",
   "execution_count": null,
   "metadata": {},
   "outputs": [],
   "source": []
  }
 ],
 "metadata": {
  "kernelspec": {
   "display_name": "Python 3",
   "language": "python",
   "name": "python3"
  },
  "language_info": {
   "codemirror_mode": {
    "name": "ipython",
    "version": 3
   },
   "file_extension": ".py",
   "mimetype": "text/x-python",
   "name": "python",
   "nbconvert_exporter": "python",
   "pygments_lexer": "ipython3",
   "version": "3.7.3"
  }
 },
 "nbformat": 4,
 "nbformat_minor": 2
}
